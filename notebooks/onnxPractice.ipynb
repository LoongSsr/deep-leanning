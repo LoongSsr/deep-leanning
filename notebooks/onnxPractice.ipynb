{
  "nbformat": 4,
  "nbformat_minor": 0,
  "metadata": {
    "colab": {
      "name": "WebPractice.ipynb",
      "provenance": [],
      "collapsed_sections": [],
      "include_colab_link": true
    },
    "kernelspec": {
      "name": "python3",
      "display_name": "Python 3"
    },
    "language_info": {
      "name": "python"
    }
  },
  "cells": [
    {
      "cell_type": "markdown",
      "metadata": {
        "id": "view-in-github",
        "colab_type": "text"
      },
      "source": [
        "<a href=\"https://colab.research.google.com/github/iu5git/Deep-learning/blob/main/notebooks/WebPractice.ipynb\" target=\"_parent\"><img src=\"https://colab.research.google.com/assets/colab-badge.svg\" alt=\"Open In Colab\"/></a>"
      ]
    },
    {
      "cell_type": "code",
      "metadata": {
        "colab": {
          "base_uri": "https://localhost:8080/"
        },
        "id": "x2azYGDgkIJJ",
        "outputId": "b453d1b6-2edf-48a1-e5f5-de588e762e5d"
      },
      "source": [
        "# установка нужных библиотек\n",
        "!pip install onnxmltools==1.7.0 onnxruntime==1.4.0\n",
        "!pip install tensorflow==1.14.0\n",
        "#!pip install tensorflow-gpu==1.14.0"
      ],
      "execution_count": null,
      "outputs": [
        {
          "output_type": "stream",
          "name": "stdout",
          "text": [
            "Requirement already satisfied: onnxmltools==1.7.0 in /usr/local/lib/python3.7/dist-packages (1.7.0)\n",
            "Requirement already satisfied: onnxruntime==1.4.0 in /usr/local/lib/python3.7/dist-packages (1.4.0)\n",
            "Requirement already satisfied: numpy in /usr/local/lib/python3.7/dist-packages (from onnxmltools==1.7.0) (1.19.5)\n",
            "Requirement already satisfied: skl2onnx in /usr/local/lib/python3.7/dist-packages (from onnxmltools==1.7.0) (1.10.0)\n",
            "Requirement already satisfied: onnxconverter-common<1.8.0,>=1.7.0 in /usr/local/lib/python3.7/dist-packages (from onnxmltools==1.7.0) (1.7.0)\n",
            "Requirement already satisfied: keras2onnx in /usr/local/lib/python3.7/dist-packages (from onnxmltools==1.7.0) (1.7.0)\n",
            "Requirement already satisfied: protobuf in /usr/local/lib/python3.7/dist-packages (from onnxmltools==1.7.0) (3.17.3)\n",
            "Requirement already satisfied: onnx in /usr/local/lib/python3.7/dist-packages (from onnxmltools==1.7.0) (1.10.1)\n",
            "Requirement already satisfied: fire in /usr/local/lib/python3.7/dist-packages (from keras2onnx->onnxmltools==1.7.0) (0.4.0)\n",
            "Requirement already satisfied: requests in /usr/local/lib/python3.7/dist-packages (from keras2onnx->onnxmltools==1.7.0) (2.23.0)\n",
            "Requirement already satisfied: termcolor in /usr/local/lib/python3.7/dist-packages (from fire->keras2onnx->onnxmltools==1.7.0) (1.1.0)\n",
            "Requirement already satisfied: six in /usr/local/lib/python3.7/dist-packages (from fire->keras2onnx->onnxmltools==1.7.0) (1.15.0)\n",
            "Requirement already satisfied: typing-extensions>=3.6.2.1 in /usr/local/lib/python3.7/dist-packages (from onnx->onnxmltools==1.7.0) (3.7.4.3)\n",
            "Requirement already satisfied: idna<3,>=2.5 in /usr/local/lib/python3.7/dist-packages (from requests->keras2onnx->onnxmltools==1.7.0) (2.10)\n",
            "Requirement already satisfied: chardet<4,>=3.0.2 in /usr/local/lib/python3.7/dist-packages (from requests->keras2onnx->onnxmltools==1.7.0) (3.0.4)\n",
            "Requirement already satisfied: urllib3!=1.25.0,!=1.25.1,<1.26,>=1.21.1 in /usr/local/lib/python3.7/dist-packages (from requests->keras2onnx->onnxmltools==1.7.0) (1.24.3)\n",
            "Requirement already satisfied: certifi>=2017.4.17 in /usr/local/lib/python3.7/dist-packages (from requests->keras2onnx->onnxmltools==1.7.0) (2021.5.30)\n",
            "Requirement already satisfied: scikit-learn>=0.19 in /usr/local/lib/python3.7/dist-packages (from skl2onnx->onnxmltools==1.7.0) (0.22.2.post1)\n",
            "Requirement already satisfied: scipy>=1.0 in /usr/local/lib/python3.7/dist-packages (from skl2onnx->onnxmltools==1.7.0) (1.4.1)\n",
            "Requirement already satisfied: joblib>=0.11 in /usr/local/lib/python3.7/dist-packages (from scikit-learn>=0.19->skl2onnx->onnxmltools==1.7.0) (1.0.1)\n",
            "Requirement already satisfied: tensorflow==1.14.0 in /usr/local/lib/python3.7/dist-packages (1.14.0)\n",
            "Requirement already satisfied: keras-preprocessing>=1.0.5 in /usr/local/lib/python3.7/dist-packages (from tensorflow==1.14.0) (1.1.2)\n",
            "Requirement already satisfied: six>=1.10.0 in /usr/local/lib/python3.7/dist-packages (from tensorflow==1.14.0) (1.15.0)\n",
            "Requirement already satisfied: protobuf>=3.6.1 in /usr/local/lib/python3.7/dist-packages (from tensorflow==1.14.0) (3.17.3)\n",
            "Requirement already satisfied: wheel>=0.26 in /usr/local/lib/python3.7/dist-packages (from tensorflow==1.14.0) (0.37.0)\n",
            "Requirement already satisfied: numpy<2.0,>=1.14.5 in /usr/local/lib/python3.7/dist-packages (from tensorflow==1.14.0) (1.19.5)\n",
            "Requirement already satisfied: tensorflow-estimator<1.15.0rc0,>=1.14.0rc0 in /usr/local/lib/python3.7/dist-packages (from tensorflow==1.14.0) (1.14.0)\n",
            "Requirement already satisfied: astor>=0.6.0 in /usr/local/lib/python3.7/dist-packages (from tensorflow==1.14.0) (0.8.1)\n",
            "Requirement already satisfied: absl-py>=0.7.0 in /usr/local/lib/python3.7/dist-packages (from tensorflow==1.14.0) (0.12.0)\n",
            "Requirement already satisfied: google-pasta>=0.1.6 in /usr/local/lib/python3.7/dist-packages (from tensorflow==1.14.0) (0.2.0)\n",
            "Requirement already satisfied: wrapt>=1.11.1 in /usr/local/lib/python3.7/dist-packages (from tensorflow==1.14.0) (1.12.1)\n",
            "Requirement already satisfied: keras-applications>=1.0.6 in /usr/local/lib/python3.7/dist-packages (from tensorflow==1.14.0) (1.0.8)\n",
            "Requirement already satisfied: termcolor>=1.1.0 in /usr/local/lib/python3.7/dist-packages (from tensorflow==1.14.0) (1.1.0)\n",
            "Requirement already satisfied: gast>=0.2.0 in /usr/local/lib/python3.7/dist-packages (from tensorflow==1.14.0) (0.4.0)\n",
            "Requirement already satisfied: tensorboard<1.15.0,>=1.14.0 in /usr/local/lib/python3.7/dist-packages (from tensorflow==1.14.0) (1.14.0)\n",
            "Requirement already satisfied: grpcio>=1.8.6 in /usr/local/lib/python3.7/dist-packages (from tensorflow==1.14.0) (1.41.0)\n",
            "Requirement already satisfied: h5py in /usr/local/lib/python3.7/dist-packages (from keras-applications>=1.0.6->tensorflow==1.14.0) (3.1.0)\n",
            "Requirement already satisfied: werkzeug>=0.11.15 in /usr/local/lib/python3.7/dist-packages (from tensorboard<1.15.0,>=1.14.0->tensorflow==1.14.0) (1.0.1)\n",
            "Requirement already satisfied: setuptools>=41.0.0 in /usr/local/lib/python3.7/dist-packages (from tensorboard<1.15.0,>=1.14.0->tensorflow==1.14.0) (57.4.0)\n",
            "Requirement already satisfied: markdown>=2.6.8 in /usr/local/lib/python3.7/dist-packages (from tensorboard<1.15.0,>=1.14.0->tensorflow==1.14.0) (3.3.4)\n",
            "Requirement already satisfied: importlib-metadata in /usr/local/lib/python3.7/dist-packages (from markdown>=2.6.8->tensorboard<1.15.0,>=1.14.0->tensorflow==1.14.0) (4.8.1)\n",
            "Requirement already satisfied: cached-property in /usr/local/lib/python3.7/dist-packages (from h5py->keras-applications>=1.0.6->tensorflow==1.14.0) (1.5.2)\n",
            "Requirement already satisfied: zipp>=0.5 in /usr/local/lib/python3.7/dist-packages (from importlib-metadata->markdown>=2.6.8->tensorboard<1.15.0,>=1.14.0->tensorflow==1.14.0) (3.6.0)\n",
            "Requirement already satisfied: typing-extensions>=3.6.4 in /usr/local/lib/python3.7/dist-packages (from importlib-metadata->markdown>=2.6.8->tensorboard<1.15.0,>=1.14.0->tensorflow==1.14.0) (3.7.4.3)\n"
          ]
        }
      ]
    },
    {
      "cell_type": "code",
      "metadata": {
        "id": "Fvk3WEQXkTwS"
      },
      "source": [
        "# импорт библиотек\n",
        "import tensorflow as tf\n",
        "from tensorflow.keras import backend as K\n",
        "import sklearn\n",
        "from sklearn.ensemble import RandomForestRegressor\n",
        "from sklearn.metrics import r2_score\n",
        "import numpy as np\n",
        "import pandas as pd\n",
        "from PIL import Image\n",
        "import os\n",
        "\n",
        "os.environ['TF_KERAS'] = '1'\n",
        "import onnxmltools\n",
        "from skl2onnx.common.data_types import FloatTensorType\n",
        "import onnx\n",
        "import onnxruntime"
      ],
      "execution_count": null,
      "outputs": []
    },
    {
      "cell_type": "markdown",
      "metadata": {
        "id": "lhsn16Bs7oVc"
      },
      "source": [
        "# Предсказание погоды в Москве"
      ]
    },
    {
      "cell_type": "code",
      "metadata": {
        "colab": {
          "base_uri": "https://localhost:8080/"
        },
        "id": "XIU6pgkz66z-",
        "outputId": "388ef77c-6408-434a-f931-f034408dbae8"
      },
      "source": [
        "# загрузка датасета с температурой москвы за 50 лет\n",
        "!gdown --id 1ri2GUfwryJ0OuW7ygKbSmmteOPaUPFSP"
      ],
      "execution_count": null,
      "outputs": [
        {
          "output_type": "stream",
          "name": "stdout",
          "text": [
            "Downloading...\n",
            "From: https://drive.google.com/uc?id=1ri2GUfwryJ0OuW7ygKbSmmteOPaUPFSP\n",
            "To: /content/dataset.csv\n",
            "\r  0% 0.00/338k [00:00<?, ?B/s]\r100% 338k/338k [00:00<00:00, 43.0MB/s]\n"
          ]
        }
      ]
    },
    {
      "cell_type": "code",
      "metadata": {
        "colab": {
          "base_uri": "https://localhost:8080/"
        },
        "id": "LyJOu5mTloKe",
        "outputId": "fc20e8e5-a140-4d96-f16a-869607e0f7ac"
      },
      "source": [
        "# чтение из файла\n",
        "df = pd.read_csv('dataset.csv')\n",
        "[(col, df[col].isna().sum()) for col in df]"
      ],
      "execution_count": null,
      "outputs": [
        {
          "output_type": "execute_result",
          "data": {
            "text/plain": [
              "[('Temperature', 0), ('month', 0), ('day', 0), ('temperature_tommorow', 0)]"
            ]
          },
          "metadata": {},
          "execution_count": 50
        }
      ]
    },
    {
      "cell_type": "code",
      "metadata": {
        "colab": {
          "base_uri": "https://localhost:8080/",
          "height": 295
        },
        "id": "RXlyzA5qmT6T",
        "outputId": "e9577d59-1666-4efd-cbc8-b524693f3da6"
      },
      "source": [
        "# визуализация данных\n",
        "ax = df.groupby('month').\\\n",
        "        Temperature.\\\n",
        "        agg(['mean', 'min', 'max']).\\\n",
        "        plot(figsize=(10, 4))\n",
        "ax.set_xticks([i for i in range(1, 13)])\n",
        "ax.set_ylabel('temperature')\n",
        "ax.set_title('Moscow')\n",
        "ax.vlines(10, -40, 35)\n",
        "ax.grid()"
      ],
      "execution_count": null,
      "outputs": [
        {
          "output_type": "display_data",
          "data": {
            "image/png": "[encoded data removed]",
            "text/plain": [
              "<Figure size 720x288 with 1 Axes>"
            ]
          },
          "metadata": {
            "needs_background": "light"
          }
        }
      ]
    },
    {
      "cell_type": "code",
      "metadata": {
        "colab": {
          "base_uri": "https://localhost:8080/"
        },
        "id": "-Ow1MkgOnx5t",
        "outputId": "e3209536-43fb-4cb0-ae8d-5133001238da"
      },
      "source": [
        "# обучение случайного леса\n",
        "rfr = RandomForestRegressor(max_depth=10, n_estimators=200, max_features=1,\n",
        "                            n_jobs=-1, oob_score=True, random_state=0).\\\n",
        "                            fit(df[['Temperature', 'month', 'day']],\n",
        "                                df.temperature_tommorow)\n",
        "r2_score(df.Temperature, df.temperature_tommorow), rfr.oob_score_, rfr.feature_importances_"
      ],
      "execution_count": null,
      "outputs": [
        {
          "output_type": "execute_result",
          "data": {
            "text/plain": [
              "(0.9311772323618567,\n",
              " 0.9330343961978274,\n",
              " array([0.64821636, 0.34445166, 0.00733198]))"
            ]
          },
          "metadata": {},
          "execution_count": 52
        }
      ]
    },
    {
      "cell_type": "code",
      "metadata": {
        "colab": {
          "base_uri": "https://localhost:8080/"
        },
        "id": "aZG-BpMZqb6I",
        "outputId": "a9d5fcd3-f835-4303-b9a9-b6a746df0057"
      },
      "source": [
        "# предсказание\n",
        "rfr.predict([[12, 10, 7]])"
      ],
      "execution_count": null,
      "outputs": [
        {
          "output_type": "execute_result",
          "data": {
            "text/plain": [
              "array([9.88984105])"
            ]
          },
          "metadata": {},
          "execution_count": 53
        }
      ]
    },
    {
      "cell_type": "code",
      "metadata": {
        "id": "6WZoGjuorobz"
      },
      "source": [
        "# конвертация в onnx формат\n",
        "initial_types = [('float_input', FloatTensorType([None, 3]))] \n",
        "onnx_model = onnxmltools.convert_sklearn(rfr, target_opset=9,\n",
        "                                         initial_types=initial_types)"
      ],
      "execution_count": null,
      "outputs": []
    },
    {
      "cell_type": "code",
      "metadata": {
        "colab": {
          "base_uri": "https://localhost:8080/"
        },
        "id": "jC1Ze3aVtfmJ",
        "outputId": "033b0b26-c03c-4ce6-9b5a-e80e063dbd2e"
      },
      "source": [
        "# сохранение модели\n",
        "onnx.checker.check_model(onnx_model)\n",
        "with open('weather_rfr.onnx', 'wb') as f:\n",
        "    f.write(onnx_model.SerializeToString())\n",
        "# тестовый запуск\n",
        "sess = onnxruntime.InferenceSession('weather_rfr.onnx')\n",
        "print([(node.name, node.shape) for node in sess.get_inputs()])\n",
        "sess.run(None, {'float_input': [[12, 10, 7]]})"
      ],
      "execution_count": null,
      "outputs": [
        {
          "output_type": "stream",
          "name": "stdout",
          "text": [
            "[('float_input', [None, 3])]\n"
          ]
        },
        {
          "output_type": "execute_result",
          "data": {
            "text/plain": [
              "[array([[9.889841]], dtype=float32)]"
            ]
          },
          "metadata": {},
          "execution_count": 55
        }
      ]
    },
    {
      "cell_type": "markdown",
      "metadata": {
        "id": "s6mlR3AwnvuM"
      },
      "source": [
        "# Демо\n",
        "# https://dlz7i.csb.app\n",
        "# Код\n",
        "# https://codesandbox.io/s/sklearnonnxtest-dlz7i"
      ]
    },
    {
      "cell_type": "markdown",
      "metadata": {
        "id": "K5huXC_Y7tMj"
      },
      "source": [
        "# Выделение каналов изображения\n"
      ]
    },
    {
      "cell_type": "code",
      "metadata": {
        "colab": {
          "base_uri": "https://localhost:8080/"
        },
        "id": "AOZGjcmM7saE",
        "outputId": "e5441c8b-68f5-4415-d427-872ba9632f8f"
      },
      "source": [
        "# вспомогательные веса\n",
        "r_mul = np.float32([1, 0, 0, 1]).reshape(1, 1, 1, -1)\n",
        "g_mul = np.float32([0, 1, 0, 1]).reshape(1, 1, 1, -1)\n",
        "b_mul = np.float32([0, 0, 1, 1]).reshape(1, 1, 1, -1)\n",
        "\n",
        "# модель keras формата\n",
        "inp = tf.keras.layers.Input((None, None , 4), name='input') \n",
        "R = tf.keras.layers.Lambda(lambda xx: xx*tf.constant(r_mul, dtype=np.float32),\n",
        "                           name='r')(inp)\n",
        "G = tf.keras.layers.Lambda(lambda xx: xx*tf.constant(g_mul, dtype=np.float32),\n",
        "                           name='g')(inp)\n",
        "B = tf.keras.layers.Lambda(lambda xx: xx*tf.constant(b_mul, dtype=np.float32),\n",
        "                           name='b')(inp)\n",
        "model = tf.keras.models.Model(inp, [R, G, B])\n",
        "model.summary()\n",
        "model.save('model.h5')"
      ],
      "execution_count": null,
      "outputs": [
        {
          "output_type": "stream",
          "name": "stdout",
          "text": [
            "Model: \"model\"\n",
            "__________________________________________________________________________________________________\n",
            "Layer (type)                    Output Shape         Param #     Connected to                     \n",
            "==================================================================================================\n",
            "input (InputLayer)              [(None, None, None,  0                                            \n",
            "__________________________________________________________________________________________________\n",
            "r (Lambda)                      (None, None, None, 4 0           input[0][0]                      \n",
            "__________________________________________________________________________________________________\n",
            "g (Lambda)                      (None, None, None, 4 0           input[0][0]                      \n",
            "__________________________________________________________________________________________________\n",
            "b (Lambda)                      (None, None, None, 4 0           input[0][0]                      \n",
            "==================================================================================================\n",
            "Total params: 0\n",
            "Trainable params: 0\n",
            "Non-trainable params: 0\n",
            "__________________________________________________________________________________________________\n"
          ]
        }
      ]
    },
    {
      "cell_type": "code",
      "metadata": {
        "colab": {
          "base_uri": "https://localhost:8080/",
          "height": 145
        },
        "id": "o-boSz0J9LLn",
        "outputId": "751ca8ee-afa7-40c1-8211-722c9a59794f"
      },
      "source": [
        "# тестовая проверка на белой картинке\n",
        "output = np.uint8(model.predict(255*np.ones((1, 128, 128, 4))))\n",
        "Image.fromarray(output[1][0][:,:,:3])"
      ],
      "execution_count": null,
      "outputs": [
        {
          "output_type": "execute_result",
          "data": {
            "image/png": "[encoded data removed]",
            "text/plain": [
              "<PIL.Image.Image image mode=RGB size=128x128 at 0x7F2CDFC3C190>"
            ]
          },
          "metadata": {},
          "execution_count": 11
        }
      ]
    },
    {
      "cell_type": "code",
      "metadata": {
        "colab": {
          "base_uri": "https://localhost:8080/"
        },
        "id": "o87ah0kc-K0y",
        "outputId": "5f5c4b16-134b-4569-f5d1-0517b6a82dff"
      },
      "source": [
        "# конвертация модели в onnx\n",
        "onnx_model = onnxmltools.convert_keras(model, target_opset=9)"
      ],
      "execution_count": null,
      "outputs": [
        {
          "output_type": "stream",
          "name": "stderr",
          "text": [
            "The ONNX operator number change on the optimization: 11 -> 3\n",
            "The maximum opset needed by this model is only 7.\n"
          ]
        }
      ]
    },
    {
      "cell_type": "code",
      "metadata": {
        "colab": {
          "base_uri": "https://localhost:8080/"
        },
        "id": "Yu4aRw_KAMZ2",
        "outputId": "07694a68-cecf-44a8-c13a-cbdf961b0b0a"
      },
      "source": [
        "# сохранение в файл и тестовый запуск\n",
        "#onnx.checker.check_model(onnx_model)\n",
        "with open('rgb.onnx', 'wb') as f:\n",
        "    f.write(onnx_model.SerializeToString())\n",
        "sess = onnxruntime.InferenceSession('rgb.onnx')\n",
        "print([(node.name, node.shape) for node in sess.get_inputs()])\n",
        "sess.run(None, {'input': np.ones((1, 1, 1, 4), dtype=np.float32)})"
      ],
      "execution_count": null,
      "outputs": [
        {
          "output_type": "stream",
          "name": "stdout",
          "text": [
            "[('input', ['N', 'M1', 'M2', 4])]\n"
          ]
        },
        {
          "output_type": "execute_result",
          "data": {
            "text/plain": [
              "[array([[[[1., 0., 0., 1.]]]], dtype=float32),\n",
              " array([[[[0., 1., 0., 1.]]]], dtype=float32),\n",
              " array([[[[0., 0., 1., 1.]]]], dtype=float32)]"
            ]
          },
          "metadata": {},
          "execution_count": 13
        }
      ]
    },
    {
      "cell_type": "markdown",
      "metadata": {
        "id": "qxu59GqBoPhX"
      },
      "source": [
        "# Демо\n",
        "# https://csb-87b95-6m1b58iet-defasium.vercel.app\n",
        "# Код\n",
        "# https://codesandbox.io/s/rgb-87b95"
      ]
    }
  ]
}